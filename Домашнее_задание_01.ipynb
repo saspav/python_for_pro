{
  "cells": [
    {
      "cell_type": "markdown",
      "metadata": {
        "id": "view-in-github",
        "colab_type": "text"
      },
      "source": [
        "<a href=\"https://colab.research.google.com/github/saspav/python_for_pro/blob/main/%D0%94%D0%BE%D0%BC%D0%B0%D1%88%D0%BD%D0%B5%D0%B5_%D0%B7%D0%B0%D0%B4%D0%B0%D0%BD%D0%B8%D0%B5_01.ipynb\" target=\"_parent\"><img src=\"https://colab.research.google.com/assets/colab-badge.svg\" alt=\"Open In Colab\"/></a>"
      ]
    },
    {
      "cell_type": "markdown",
      "metadata": {
        "id": "FLt_lra9ANvv"
      },
      "source": [
        "# Домашнее задание № 1"
      ]
    },
    {
      "cell_type": "markdown",
      "metadata": {
        "id": "kbJt8TyMujxo"
      },
      "source": [
        "### Задание 1: Кодировщик Цезаря\n",
        "\n",
        "\n",
        "Описание:\n",
        "\n",
        "Напишите функцию, которая реализует кодирование строки шифром Цезаря.\n",
        "\n",
        "In:\n",
        "* строка\n",
        "* размер сдвига\n",
        "\n",
        "Out:\n",
        "* зашифрованная строка\n",
        "\n",
        "Ограничения: строка содержит только буквы русского алфавита"
      ]
    },
    {
      "cell_type": "code",
      "execution_count": 1,
      "metadata": {
        "id": "oZgX9GMrugmO"
      },
      "outputs": [],
      "source": [
        "letters = ['А', 'Б', 'В', 'Г', 'Д', 'Е', 'Ж', 'З', 'И', 'Й', 'К', 'Л', 'М', 'Н', 'О', 'П',\n",
        "           'Р', 'С', 'Т', 'У', 'Ф', 'Х', 'Ц', 'Ч', 'Ш', 'Щ', 'Ъ', 'Ы', 'Ь', 'Э', 'Ю', 'Я']"
      ]
    },
    {
      "cell_type": "code",
      "execution_count": 2,
      "metadata": {
        "id": "ccQ_URBDANvw"
      },
      "outputs": [],
      "source": [
        "class CaesarCipher:\n",
        "    def __init__(self, abc=None, shift=7):\n",
        "        self.shift = shift\n",
        "        self.abc = abc if abc else 'АБВГДЕЖЗИЙКЛМНОПРСТУФХЦЧШЩЪЫЬЭЮЯ'\n",
        "\n",
        "    def _caesar(self, text, shift=None, key=1):\n",
        "        \"\"\"\n",
        "        Метод, реализующий алгоритм Цезаря\n",
        "        :param text: текст\n",
        "        :param shift: сдвиг\n",
        "        :param key: направление\n",
        "        :return: зашифрованный/дешифрованный текст\n",
        "        \"\"\"\n",
        "        shift = self.shift if shift is None else shift\n",
        "        encoded = ''\n",
        "        for ch in text:\n",
        "            if ch.upper() in self.abc:\n",
        "                x = self.abc[(self.abc.find(ch.upper()) + shift * key) % len(self.abc)]\n",
        "                encoded += x.lower() if ch.islower() else x\n",
        "            else:\n",
        "                encoded += ch\n",
        "        return encoded\n",
        "\n",
        "    def encode(self, text, shift=None):\n",
        "        \"\"\"\n",
        "        Функция шифрования текста\n",
        "        :param text: текст\n",
        "        :param shift: сдвиг\n",
        "        :return: зашифрованный текст\n",
        "        \"\"\"\n",
        "        shift = self.shift if shift is None else shift\n",
        "        return self._caesar(text, shift)\n",
        "\n",
        "    def decode(self, text, shift=None):\n",
        "        \"\"\"\n",
        "        Функция дешифровки текста\n",
        "        :param text: текст\n",
        "        :param shift: сдвиг\n",
        "        :return: дешифрованный текст\n",
        "        \"\"\"\n",
        "        shift = self.shift if shift is None else shift\n",
        "        return self._caesar(text, shift, -1)\n",
        "\n",
        "    def brute_force(self, text):\n",
        "        \"\"\"\n",
        "        Метод для взлома шифра Цезаря\n",
        "        :param text: зашифрованный текст\n",
        "        :return: список с кортежами вида: (сдвиг, расшифрованный текст)\n",
        "        \"\"\"\n",
        "        result = []\n",
        "        for shift in range(len(self.abc)):\n",
        "            result.append((shift, self.decode(text, shift)))\n",
        "        return result"
      ]
    },
    {
      "cell_type": "code",
      "execution_count": 3,
      "metadata": {
        "id": "MGV2jUFjANvw",
        "outputId": "d6e473cd-5339-40d9-bfa1-dbeb66af7b80",
        "colab": {
          "base_uri": "https://localhost:8080/"
        }
      },
      "outputs": [
        {
          "output_type": "stream",
          "name": "stdout",
          "text": [
            "Исходный текст: НАПИШИТЕФУНКЦИЮКОТОРАЯРЕАЛИЗУЕТКОДИРОВАНИЕСТРОКИШИФРОМЦЕЗАРЯ\n",
            "\n",
            "Зашифрованный текст: ЪНЬХЕХЯТБАЪЧГХЛЧЫЯЫЭНМЭТНШХФАТЯЧЫСХЭЫПНЪХТЮЯЭЫЧХЕХБЭЫЩГТФНЭМ\n"
          ]
        }
      ],
      "source": [
        "# Входная строка\n",
        "input_text = 'Напишите функцию, которая реализует кодирование строки шифром Цезаря.'\n",
        "# Сдвиг для шифра\n",
        "shift_text = len(letters) + 13\n",
        "\n",
        "# Оставим только буквы из списка letters\n",
        "input_text = ''.join(ch for ch in input_text.upper() if ch in letters)\n",
        "print('Исходный текст:', input_text)\n",
        "\n",
        "caesar = CaesarCipher()\n",
        "\n",
        "encoded_text = caesar.encode(input_text, shift_text)\n",
        "print('\\nЗашифрованный текст:', encoded_text)"
      ]
    },
    {
      "cell_type": "markdown",
      "metadata": {
        "id": "7OjM3A7Ou7HR"
      },
      "source": [
        "### Задание 2: Дешифровщик Цезаря\n",
        "\n",
        "Описание:\n",
        "\n",
        "Напишите функцию, которая реализует декодирование строки, зашифрованной шифром Цезаря.\n",
        "\n",
        "In:\n",
        "* зашифрованная строка\n",
        "\n",
        "Out:\n",
        "* список кортежей (сдвиг, результат дешифровки)\n",
        "\n",
        "Ограничения: метод дешифрования - brute force =)"
      ]
    },
    {
      "cell_type": "code",
      "execution_count": 4,
      "metadata": {
        "colab": {
          "base_uri": "https://localhost:8080/"
        },
        "id": "c9LrLZKBusJ1",
        "outputId": "35c60564-1aa9-48fc-ba3a-606f73462890"
      },
      "outputs": [
        {
          "output_type": "stream",
          "name": "stdout",
          "text": [
            "Зашифрованный текст: ЖЩИБСБЛЮ НМЖГПБЧ, ГЗЛЗЙЩШ ЙЮЩДБАМЮЛ ГЗЭБЙЗЫЩЖБЮ КЛЙЗГБ СБНЙЗЕ ПЮАЩЙШ.\n",
            "\n",
            "Подбор сдвига:\n",
            "\n",
            "(0, 'ЖЩИБСБЛЮ НМЖГПБЧ, ГЗЛЗЙЩШ ЙЮЩДБАМЮЛ ГЗЭБЙЗЫЩЖБЮ КЛЙЗГБ СБНЙЗЕ ПЮАЩЙШ.')\n",
            "(1, 'ЕШЗАРАКЭ МЛЕВОАЦ, ВЖКЖИШЧ ИЭШГАЯЛЭК ВЖЬАИЖЪШЕАЭ ЙКИЖВА РАМИЖД ОЭЯШИЧ.')\n",
            "(2, 'ДЧЖЯПЯЙЬ ЛКДБНЯХ, БЕЙЕЗЧЦ ЗЬЧВЯЮКЬЙ БЕЫЯЗЕЩЧДЯЬ ИЙЗЕБЯ ПЯЛЗЕГ НЬЮЧЗЦ.')\n",
            "(3, 'ГЦЕЮОЮИЫ КЙГАМЮФ, АДИДЖЦХ ЖЫЦБЮЭЙЫИ АДЪЮЖДШЦГЮЫ ЗИЖДАЮ ОЮКЖДВ МЫЭЦЖХ.')\n",
            "(4, 'ВХДЭНЭЗЪ ЙИВЯЛЭУ, ЯГЗГЕХФ ЕЪХАЭЬИЪЗ ЯГЩЭЕГЧХВЭЪ ЖЗЕГЯЭ НЭЙЕГБ ЛЪЬХЕФ.')\n",
            "(5, 'БФГЬМЬЖЩ ИЗБЮКЬТ, ЮВЖВДФУ ДЩФЯЬЫЗЩЖ ЮВШЬДВЦФБЬЩ ЕЖДВЮЬ МЬИДВА КЩЫФДУ.')\n",
            "(6, 'АУВЫЛЫЕШ ЗЖАЭЙЫС, ЭБЕБГУТ ГШУЮЫЪЖШЕ ЭБЧЫГБХУАЫШ ДЕГБЭЫ ЛЫЗГБЯ ЙШЪУГТ.')\n",
            "(7, 'ЯТБЪКЪДЧ ЖЕЯЬИЪР, ЬАДАВТС ВЧТЭЪЩЕЧД ЬАЦЪВАФТЯЪЧ ГДВАЬЪ КЪЖВАЮ ИЧЩТВС.')\n",
            "(8, 'ЮСАЩЙЩГЦ ЕДЮЫЗЩП, ЫЯГЯБСР БЦСЬЩШДЦГ ЫЯХЩБЯУСЮЩЦ ВГБЯЫЩ ЙЩЕБЯЭ ЗЦШСБР.')\n",
            "(9, 'ЭРЯШИШВХ ДГЭЪЖШО, ЪЮВЮАРП АХРЫШЧГХВ ЪЮФШАЮТРЭШХ БВАЮЪШ ИШДАЮЬ ЖХЧРАП.')\n",
            "(10, 'ЬПЮЧЗЧБФ ГВЬЩЕЧН, ЩЭБЭЯПО ЯФПЪЧЦВФБ ЩЭУЧЯЭСПЬЧФ АБЯЭЩЧ ЗЧГЯЭЫ ЕФЦПЯО.')\n",
            "(11, 'ЫОЭЦЖЦАУ ВБЫШДЦМ, ШЬАЬЮОН ЮУОЩЦХБУА ШЬТЦЮЬРОЫЦУ ЯАЮЬШЦ ЖЦВЮЬЪ ДУХОЮН.')\n",
            "(12, 'ЪНЬХЕХЯТ БАЪЧГХЛ, ЧЫЯЫЭНМ ЭТНШХФАТЯ ЧЫСХЭЫПНЪХТ ЮЯЭЫЧХ ЕХБЭЫЩ ГТФНЭМ.')\n",
            "(13, 'ЩМЫФДФЮС АЯЩЦВФК, ЦЪЮЪЬМЛ ЬСМЧФУЯСЮ ЦЪРФЬЪОМЩФС ЭЮЬЪЦФ ДФАЬЪШ ВСУМЬЛ.')\n",
            "(14, 'ШЛЪУГУЭР ЯЮШХБУЙ, ХЩЭЩЫЛК ЫРЛЦУТЮРЭ ХЩПУЫЩНЛШУР ЬЭЫЩХУ ГУЯЫЩЧ БРТЛЫК.')\n",
            "(15, 'ЧКЩТВТЬП ЮЭЧФАТИ, ФШЬШЪКЙ ЪПКХТСЭПЬ ФШОТЪШМКЧТП ЫЬЪШФТ ВТЮЪШЦ АПСКЪЙ.')\n",
            "(16, 'ЦЙШСБСЫО ЭЬЦУЯСЗ, УЧЫЧЩЙИ ЩОЙФСРЬОЫ УЧНСЩЧЛЙЦСО ЪЫЩЧУС БСЭЩЧХ ЯОРЙЩИ.')\n",
            "(17, 'ХИЧРАРЪН ЬЫХТЮРЖ, ТЦЪЦШИЗ ШНИУРПЫНЪ ТЦМРШЦКИХРН ЩЪШЦТР АРЬШЦФ ЮНПИШЗ.')\n",
            "(18, 'ФЗЦПЯПЩМ ЫЪФСЭПЕ, СХЩХЧЗЖ ЧМЗТПОЪМЩ СХЛПЧХЙЗФПМ ШЩЧХСП ЯПЫЧХУ ЭМОЗЧЖ.')\n",
            "(19, 'УЖХОЮОШЛ ЪЩУРЬОД, РФШФЦЖЕ ЦЛЖСОНЩЛШ РФКОЦФИЖУОЛ ЧШЦФРО ЮОЪЦФТ ЬЛНЖЦЕ.')\n",
            "(20, 'ТЕФНЭНЧК ЩШТПЫНГ, ПУЧУХЕД ХКЕРНМШКЧ ПУЙНХУЗЕТНК ЦЧХУПН ЭНЩХУС ЫКМЕХД.')\n",
            "(21, 'СДУМЬМЦЙ ШЧСОЪМВ, ОТЦТФДГ ФЙДПМЛЧЙЦ ОТИМФТЖДСМЙ ХЦФТОМ ЬМШФТР ЪЙЛДФГ.')\n",
            "(22, 'РГТЛЫЛХИ ЧЦРНЩЛБ, НСХСУГВ УИГОЛКЦИХ НСЗЛУСЕГРЛИ ФХУСНЛ ЫЛЧУСП ЩИКГУВ.')\n",
            "(23, 'ПВСКЪКФЗ ЦХПМШКА, МРФРТВБ ТЗВНКЙХЗФ МРЖКТРДВПКЗ УФТРМК ЪКЦТРО ШЗЙВТБ.')\n",
            "(24, 'ОБРЙЩЙУЖ ХФОЛЧЙЯ, ЛПУПСБА СЖБМЙИФЖУ ЛПЕЙСПГБОЙЖ ТУСПЛЙ ЩЙХСПН ЧЖИБСА.')\n",
            "(25, 'НАПИШИТЕ ФУНКЦИЮ, КОТОРАЯ РЕАЛИЗУЕТ КОДИРОВАНИЕ СТРОКИ ШИФРОМ ЦЕЗАРЯ.')\n",
            "(26, 'МЯОЗЧЗСД УТМЙХЗЭ, ЙНСНПЯЮ ПДЯКЗЖТДС ЙНГЗПНБЯМЗД РСПНЙЗ ЧЗУПНЛ ХДЖЯПЮ.')\n",
            "(27, 'ЛЮНЖЦЖРГ ТСЛИФЖЬ, ИМРМОЮЭ ОГЮЙЖЕСГР ИМВЖОМАЮЛЖГ ПРОМИЖ ЦЖТОМК ФГЕЮОЭ.')\n",
            "(28, 'КЭМЕХЕПВ СРКЗУЕЫ, ЗЛПЛНЭЬ НВЭИЕДРВП ЗЛБЕНЛЯЭКЕВ ОПНЛЗЕ ХЕСНЛЙ УВДЭНЬ.')\n",
            "(29, 'ЙЬЛДФДОБ РПЙЖТДЪ, ЖКОКМЬЫ МБЬЗДГПБО ЖКАДМКЮЬЙДБ НОМКЖД ФДРМКИ ТБГЬМЫ.')\n",
            "(30, 'ИЫКГУГНА ПОИЕСГЩ, ЕЙНЙЛЫЪ ЛАЫЖГВОАН ЕЙЯГЛЙЭЫИГА МНЛЙЕГ УГПЛЙЗ САВЫЛЪ.')\n",
            "(31, 'ЗЪЙВТВМЯ ОНЗДРВШ, ДИМИКЪЩ КЯЪЕВБНЯМ ДИЮВКИЬЪЗВЯ ЛМКИДВ ТВОКИЖ РЯБЪКЩ.')\n"
          ]
        }
      ],
      "source": [
        "import random\n",
        "\n",
        "\n",
        "# Входная строка\n",
        "input_text = 'Напишите функцию, которая реализует кодирование строки шифром Цезаря.'.upper()\n",
        "# Сдвиг для шифра\n",
        "shift_text = random.randint(1, len(letters))\n",
        "\n",
        "# Оставим только буквы из списка letters\n",
        "# input_text = ''.join(ch for ch in input_text.upper() if ch in letters)\n",
        "# print('Исходный текст:', input_text)\n",
        "\n",
        "caesar = CaesarCipher(shift=shift_text)\n",
        "\n",
        "encoded_text = caesar.encode(input_text)\n",
        "print('Зашифрованный текст:', encoded_text)\n",
        "\n",
        "decode_result = caesar.brute_force(encoded_text)\n",
        "print('\\nПодбор сдвига:\\n', *decode_result, sep='\\n')"
      ]
    },
    {
      "cell_type": "markdown",
      "metadata": {
        "id": "aJKPbqAfANvw"
      },
      "source": [
        "#### Для английского текста можно автоматические определять сдвиг с помощью функции wordnet.synsets()"
      ]
    },
    {
      "cell_type": "code",
      "execution_count": 5,
      "metadata": {
        "id": "mnOFvOZeANvx",
        "outputId": "3adc469b-003a-4da0-d396-0e254e854c61",
        "colab": {
          "base_uri": "https://localhost:8080/"
        }
      },
      "outputs": [
        {
          "output_type": "stream",
          "name": "stderr",
          "text": [
            "[nltk_data] Downloading package wordnet to /root/nltk_data...\n",
            "[nltk_data]   Package wordnet is already up-to-date!\n"
          ]
        },
        {
          "output_type": "stream",
          "name": "stdout",
          "text": [
            "shift=24, decoded: 1 beautiful is better than ugly.\n",
            "shift= 4, decoded: 2 explicit is better than implicit.\n",
            "shift=25, decoded: 3 simple is better than complex.\n",
            "shift=17, decoded: 4 complex is better than complicated.\n",
            "shift=18, decoded: 5 flat is better than nested.\n",
            "shift= 4, decoded: 6 sparse is better than dense.\n",
            "shift=11, decoded: 7 readability counts.\n",
            "shift=24, decoded: 8 special cases aren't special enough to break the rules.\n",
            "shift= 8, decoded: 9 although practicality beats purity.\n",
            "shift=16, decoded: 10 errors should never pass silently.\n",
            "shift=24, decoded: 11 unless explicitly silenced.\n",
            "shift=10, decoded: 12 in the face of ambiguity, refuse the temptation to guess.\n",
            "shift=18, decoded: 13 there should be one-- and preferably only one --obvious way to do it.\n",
            "shift= 6, decoded: 14 although that way may not be obvious at first unless you're dutch.\n",
            "shift=16, decoded: 15 now is better than never.\n",
            "shift= 5, decoded: 16 although never is often better than *right* now.\n",
            "shift=23, decoded: 17 if the implementation is hard to explain, it's a bad idea.\n",
            "shift=15, decoded: 18 if the implementation is easy to explain, it may be a good idea.\n",
            "shift=12, decoded: 19 namespaces are one honking great idea — let's do more of those!\n",
            "CPU times: user 6.99 s, sys: 513 ms, total: 7.51 s\n",
            "Wall time: 11.3 s\n"
          ]
        }
      ],
      "source": [
        "%%time\n",
        "\n",
        "import re\n",
        "import nltk\n",
        "from nltk.corpus import wordnet\n",
        "\n",
        "nltk.download('wordnet')\n",
        "\n",
        "\n",
        "input_text = \"\"\"1 zcysrgdsj gq zcrrcp rfyl sejw.\n",
        "2 ibtpmgmx mw fixxiv xler mqtpmgmx.\n",
        "3 rhlokd hr adssdq sgzm bnlokdw.\n",
        "4 tfdgcvo zj svkkvi kyre tfdgcztrkvu.\n",
        "5 xdsl ak twllwj lzsf fwklwv.\n",
        "6 wtevwi mw fixxiv xler hirwi.\n",
        "7 cplolmtwtej nzfyed.\n",
        "8 qncagyj ayqcq ypcl'r qncagyj clmsef rm zpcyi rfc psjcq.\n",
        "9 itbpwcop xzikbqkitqbg jmiba xczqbg.\n",
        "10 uhhehi ixekbt duluh fqii iybudjbo.\n",
        "11 sljcqq cvnjgagrjw qgjclacb.\n",
        "12 sx dro pkmo yp kwlsqesdi, bopeco dro dowzdkdsyx dy qeocc.\n",
        "13 lzwjw kzgmdv tw gfw-- sfv hjwxwjstdq gfdq gfw --gtnagmk osq lg vg al.\n",
        "14 grznuamn zngz cge sge tuz hk uhbouay gz loxyz atrkyy eua'xk jazin.\n",
        "15 dem yi rujjuh jxqd duluh.\n",
        "16 fqymtzlm sjajw nx tkyjs gjyyjw ymfs *wnlmy* stb.\n",
        "17 fc qeb fjmibjbkqxqflk fp exoa ql bumixfk, fq'p x yxa fabx.\n",
        "18 xu iwt xbeatbtcipixdc xh tphn id tmeapxc, xi bpn qt p vdds xstp.\n",
        "19 zmyqebmoqe mdq azq tazwuzs sdqmf upqm — xqf'e pa yadq ar ftaeq!\"\"\"\n",
        "\n",
        "pattern_punct = r'[!@\"“’«»#$%&\\'()*+,.—/:;<=>?^_`{|}~\\[\\]]'\n",
        "\n",
        "caesar_en = CaesarCipher(abc='ABCDEFGHIJKLMNOPQRSTUVWXYZ')\n",
        "\n",
        "for row in input_text.splitlines():\n",
        "    for shift in range(len(caesar_en.abc)):\n",
        "        decoded = caesar_en.decode(row, shift)\n",
        "        _decoded = re.sub(pattern_punct, ' ', decoded.lower()).strip()\n",
        "        scores = [wordnet.synsets(word) for word in _decoded.split()]\n",
        "        if sum(map(bool, scores)) / len(scores) > 0.6:\n",
        "            print(f'shift={shift:>2}, decoded: {decoded}')"
      ]
    },
    {
      "cell_type": "markdown",
      "metadata": {
        "id": "-et3WtEmANvx"
      },
      "source": [
        "## Практическая часть\n",
        "\n",
        "### Задание 1: Управление библиотекой книг\n",
        "Создайте систему управления библиотекой, которая позволяет добавлять книги, удалять книги,\n",
        "искать книги по названию и автору."
      ]
    },
    {
      "cell_type": "code",
      "execution_count": 6,
      "metadata": {
        "id": "u4ZQ0b9PANvx",
        "outputId": "571c6eb6-1afc-4d04-f37c-08369874074c",
        "colab": {
          "base_uri": "https://localhost:8080/"
        }
      },
      "outputs": [
        {
          "output_type": "stream",
          "name": "stdout",
          "text": [
            "Книга 'Золотой телёнок' добавлена.\n",
            "Книга 'Преступление и наказание' добавлена.\n",
            "Книга 'Тайный город' добавлена.\n",
            "Книга 'Доказательство силы' добавлена.\n",
            "Книга 'Доказательство силы' уже существует. Добавляем авторов.\n",
            "К книге 'Доказательство силы' добавлен автор: Виктор Точинов.\n",
            "Книга 'Золотой телёнок' найдена. Авторы: Илья Ильф, Евгений Петров.\n",
            "Книги автора 'Фёдор Достоевский': Преступление и наказание.\n",
            "Книга 'Доказательство силы' найдена. Авторы: Вадим Панов, Виктор Точинов.\n",
            "Книга 'Золотой телёнок' удалена.\n",
            "Книга 'Золотой телёнок' не найдена.\n"
          ]
        }
      ],
      "source": [
        "class Library:\n",
        "    def __init__(self):\n",
        "        # Словарь для хранения книг: ключ - название, значение - список авторов\n",
        "        self.books = {}\n",
        "\n",
        "    def add_book(self, title, authors):\n",
        "        \"\"\"Добавляет книгу с указанным названием и списком авторов.\"\"\"\n",
        "        if isinstance(authors, str):\n",
        "            _authors = [authors]\n",
        "        else:\n",
        "            _authors = list(authors)\n",
        "        if title in self.books:\n",
        "            print(f\"Книга '{title}' уже существует. Добавляем авторов.\")\n",
        "            self.books[title].extend(_authors)\n",
        "            print(f\"К книге '{title}' добавлен автор: {authors}.\")\n",
        "        else:\n",
        "            self.books[title] = _authors\n",
        "            print(f\"Книга '{title}' добавлена.\")\n",
        "\n",
        "    def remove_book(self, title):\n",
        "        \"\"\"Удаляет книгу с указанным названием, если она существует.\"\"\"\n",
        "        if title in self.books:\n",
        "            del self.books[title]\n",
        "            print(f\"Книга '{title}' удалена.\")\n",
        "        else:\n",
        "            print(f\"Книга '{title}' не найдена.\")\n",
        "\n",
        "    def search_by_title(self, title):\n",
        "        \"\"\"Ищет книгу по названию.\"\"\"\n",
        "        if title in self.books:\n",
        "            return f\"Книга '{title}' найдена. Авторы: {', '.join(self.books[title])}.\"\n",
        "        else:\n",
        "            return f\"Книга '{title}' не найдена.\"\n",
        "\n",
        "    def search_by_author(self, author):\n",
        "        \"\"\"Ищет книги по автору.\"\"\"\n",
        "        found_books = [title for title, authors in self.books.items() if author in authors]\n",
        "        if found_books:\n",
        "            return f\"Книги автора '{author}': {', '.join(found_books)}.\"\n",
        "        else:\n",
        "            return f\"Книги автора '{author}' не найдены.\"\n",
        "\n",
        "\n",
        "# Пример использования:\n",
        "library = Library()\n",
        "\n",
        "# Добавляем новые книги\n",
        "library.add_book(\"Золотой телёнок\", [\"Илья Ильф\", \"Евгений Петров\"])\n",
        "library.add_book(\"Преступление и наказание\", \"Фёдор Достоевский\")\n",
        "library.add_book(\"Тайный город\", \"Вадим Панов\")\n",
        "library.add_book(\"Доказательство силы\", \"Вадим Панов\")\n",
        "library.add_book(\"Доказательство силы\", \"Виктор Точинов\")\n",
        "\n",
        "# Ищем книги\n",
        "print(library.search_by_title(\"Золотой телёнок\"))  # Найдём книгу по названию\n",
        "print(library.search_by_author(\"Фёдор Достоевский\"))  # Найдём книги по автору\n",
        "print(library.search_by_title(\"Доказательство силы\"))  # Найдём книги по названию\n",
        "\n",
        "# Удаляем книгу\n",
        "library.remove_book(\"Золотой телёнок\")\n",
        "print(library.search_by_title(\"Золотой телёнок\"))  # Проверяем, что книга удалена"
      ]
    },
    {
      "cell_type": "markdown",
      "metadata": {
        "id": "B929BCGuANvx"
      },
      "source": [
        "### Задание 2: Базовая статистика\n",
        "Напишите программу для вывода моды, медианы и среднего"
      ]
    },
    {
      "cell_type": "code",
      "execution_count": 7,
      "metadata": {
        "id": "lj_gRZU6ANvx",
        "outputId": "9dc101ab-9059-4d7d-ef4c-f08b42be1f04",
        "colab": {
          "base_uri": "https://localhost:8080/"
        }
      },
      "outputs": [
        {
          "output_type": "stream",
          "name": "stdout",
          "text": [
            "Фрагмент данных: [82, 15, 4, 95, 36, 32, 29, 18, 95, 14, 87, 95, 70]...\n",
            "\n",
            "Среднее: 51.2723\n",
            "Медиана: 52.0\n",
            "Мода: 74\n"
          ]
        }
      ],
      "source": [
        "import random\n",
        "from collections import Counter\n",
        "\n",
        "\n",
        "# Устанавливаем фиксированный сид\n",
        "random.seed(42)\n",
        "\n",
        "# Генерируем список из 10000 случайных целых чисел\n",
        "data = [random.randint(1, 100) for _ in range(10_000)]\n",
        "\n",
        "\n",
        "def calculate_statistics(data):\n",
        "    # Подсчет среднего\n",
        "    mean = sum(data) / len(data)\n",
        "\n",
        "    # Сортировка данных для вычисления медианы\n",
        "    sorted_data = sorted(data)\n",
        "    n = len(sorted_data)\n",
        "\n",
        "    # Подсчет медианы\n",
        "    if n % 2 == 0:\n",
        "        median = (sorted_data[n // 2 - 1] + sorted_data[n // 2]) / 2\n",
        "    else:\n",
        "        median = sorted_data[n // 2]\n",
        "\n",
        "    # Подсчет моды\n",
        "    data_counts = Counter(data)\n",
        "    mode_data = data_counts.most_common()\n",
        "    max_count = mode_data[0][1]\n",
        "    mode = [value for value, count in mode_data if count == max_count]\n",
        "\n",
        "    return mean, median, mode[0]\n",
        "\n",
        "\n",
        "# Вычисляем статистику\n",
        "mean, median, mode = calculate_statistics(data)\n",
        "\n",
        "print(f\"Фрагмент данных: {data[:13]}...\\n\")\n",
        "print(f\"Среднее: {mean}\")\n",
        "print(f\"Медиана: {median}\")\n",
        "print(f\"Мода: {mode}\")"
      ]
    },
    {
      "cell_type": "code",
      "execution_count": 8,
      "metadata": {
        "id": "PqBwZaUcANvx",
        "outputId": "a8c94b91-ba1c-4335-9651-f776dae668fe",
        "colab": {
          "base_uri": "https://localhost:8080/"
        }
      },
      "outputs": [
        {
          "output_type": "stream",
          "name": "stdout",
          "text": [
            "Среднее: 51.2723\n",
            "Медиана: 52.0\n",
            "Мода: 74\n"
          ]
        }
      ],
      "source": [
        "# Вычисляем статистику с использованием ленивого метода\n",
        "\n",
        "import numpy as np\n",
        "from scipy import stats\n",
        "\n",
        "\n",
        "mean = np.mean(data)\n",
        "median = np.median(data)\n",
        "mode = stats.mode(data, keepdims=False)[0]\n",
        "\n",
        "print(f\"Среднее: {mean}\")\n",
        "print(f\"Медиана: {median}\")\n",
        "print(f\"Мода: {mode}\")"
      ]
    },
    {
      "cell_type": "markdown",
      "metadata": {
        "id": "fVmxLbDDANvx"
      },
      "source": [
        "#### Задание 3: Анализ текста\n",
        "Напишите программу, которая анализирует текст, введенный пользователем, и выводит количество слов, количество уникальных слов и самое частое слово."
      ]
    },
    {
      "cell_type": "code",
      "execution_count": 9,
      "metadata": {
        "id": "Nf4LrPLfANvx",
        "outputId": "45ba4095-2552-4e65-c89c-5fb2bdf4c2fc",
        "colab": {
          "base_uri": "https://localhost:8080/"
        }
      },
      "outputs": [
        {
          "output_type": "stream",
          "name": "stdout",
          "text": [
            "Общее количество слов: 147\n",
            "Количество уникальных слов: 87\n",
            "Самое частое слово: 'is' (встречается 10 раз(а))\n"
          ]
        }
      ],
      "source": [
        "import re\n",
        "from collections import Counter\n",
        "\n",
        "\n",
        "def analyze_text(text):\n",
        "    pattern_punct = r'[!@\"“’«»#$%&\\'()*+,.—/:;<=>?^_`{|}~\\[\\]]'\n",
        "\n",
        "    # Приводим текст к нижнему регистру, убираем пунктуацию и разбиваем его на слова\n",
        "    words = re.sub(pattern_punct, ' ', text.lower().replace('--', ' ').strip()).split()\n",
        "\n",
        "    # Подсчет общего количества слов\n",
        "    total_words = len(words)\n",
        "\n",
        "    # Подсчет уникальных слов\n",
        "    unique_words = set(words)\n",
        "    total_unique_words = len(unique_words)\n",
        "\n",
        "    # Подсчет частоты слов\n",
        "    word_counts = Counter(words)\n",
        "\n",
        "    # Находим самое частое слово\n",
        "    # Если есть несколько, будем брать первое по порядку\n",
        "    most_common_word, most_common_count = word_counts.most_common(1)[0]\n",
        "\n",
        "    return total_words, total_unique_words, most_common_word, most_common_count\n",
        "\n",
        "\n",
        "import_this = \"\"\"The Zen of Python, by Tim Peters\n",
        "\n",
        "Beautiful is better than ugly.\n",
        "Explicit is better than implicit.\n",
        "Simple is better than complex.\n",
        "Complex is better than complicated.\n",
        "Flat is better than nested.\n",
        "Sparse is better than dense.\n",
        "Readability counts.\n",
        "Special cases aren't special enough to break the rules.\n",
        "Although practicality beats purity.\n",
        "Errors should never pass silently.\n",
        "Unless explicitly silenced.\n",
        "In the face of ambiguity, refuse the temptation to guess.\n",
        "There should be one-- and preferably only one --obvious way to do it.\n",
        "Although that way may not be obvious at first unless you're Dutch.\n",
        "Now is better than never.\n",
        "Although never is often better than *right* now.\n",
        "If the implementation is hard to explain, it's a bad idea.\n",
        "If the implementation is easy to explain, it may be a good idea.\n",
        "Namespaces are one honking great idea -- let's do more of those!\"\"\"\n",
        "\n",
        "# Анализируем текст\n",
        "words, unique_words, common_word, common_count = analyze_text(import_this)\n",
        "\n",
        "# Вывод результатов\n",
        "print(f\"Общее количество слов: {words}\")\n",
        "print(f\"Количество уникальных слов: {unique_words}\")\n",
        "print(f\"Самое частое слово: '{common_word}' (встречается {common_count} раз(а))\")"
      ]
    },
    {
      "cell_type": "code",
      "execution_count": 10,
      "metadata": {
        "id": "fBHLRwDpANvx",
        "outputId": "19273334-edc8-4bac-f764-28ffa94d2b20",
        "colab": {
          "base_uri": "https://localhost:8080/"
        }
      },
      "outputs": [
        {
          "output_type": "stream",
          "name": "stdout",
          "text": [
            "Введите текст для анализа: There should be one-- and preferably only one --obvious way to do it.\n",
            "Общее количество слов: 13\n",
            "Количество уникальных слов: 12\n",
            "Самое частое слово: 'one' (встречается 2 раз(а))\n"
          ]
        }
      ],
      "source": [
        "# Ввод текста пользователем\n",
        "user_input = input(\"Введите текст для анализа: \")\n",
        "\n",
        "# Анализируем текст\n",
        "words, unique_words, common_word, common_count = analyze_text(user_input)\n",
        "\n",
        "# Вывод результатов\n",
        "print(f\"Общее количество слов: {words}\")\n",
        "print(f\"Количество уникальных слов: {unique_words}\")\n",
        "print(f\"Самое частое слово: '{common_word}' (встречается {common_count} раз(а))\")"
      ]
    },
    {
      "cell_type": "code",
      "execution_count": 10,
      "metadata": {
        "id": "JjoHDm_CANvx"
      },
      "outputs": [],
      "source": []
    }
  ],
  "metadata": {
    "colab": {
      "provenance": [],
      "include_colab_link": true
    },
    "kernelspec": {
      "display_name": "Python 3 (ipykernel)",
      "language": "python",
      "name": "python3"
    },
    "language_info": {
      "codemirror_mode": {
        "name": "ipython",
        "version": 3
      },
      "file_extension": ".py",
      "mimetype": "text/x-python",
      "name": "python",
      "nbconvert_exporter": "python",
      "pygments_lexer": "ipython3",
      "version": "3.11.5"
    }
  },
  "nbformat": 4,
  "nbformat_minor": 0
}