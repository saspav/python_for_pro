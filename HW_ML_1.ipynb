{
  "cells": [
    {
      "cell_type": "markdown",
      "metadata": {
        "id": "view-in-github",
        "colab_type": "text"
      },
      "source": [
        "<a href=\"https://colab.research.google.com/github/saspav/python_for_pro/blob/main/HW_ML_1.ipynb\" target=\"_parent\"><img src=\"https://colab.research.google.com/assets/colab-badge.svg\" alt=\"Open In Colab\"/></a>"
      ]
    },
    {
      "cell_type": "markdown",
      "metadata": {
        "id": "jZOR9Y3YtJd6"
      },
      "source": [
        "<font color='green' size='6'>**Домашняя работа 1**</font>  \n",
        "<font color='#11a642' size='5'>**Тема: Машинное обучение**</font>  \n",
        "<font size='5'>**Задание:**</font>  \n",
        "\n",
        "Домашняя работа основана на данных о стоимости недвижимости.\n",
        "\n",
        "**Описание данных:**\n",
        "\n",
        "| Признак     | Описание                                                 |\n",
        "|-------------|-----------------------------------------------------------|\n",
        "| MedInc      | Средний доход домохозяйства (в десятках тысяч долларов)  |\n",
        "| HouseAge    | Средний возраст домов в районе                           |\n",
        "| AveRooms    | Среднее количество комнат на дом                         |\n",
        "| AveBedrms   | Среднее количество спален на дом                         |\n",
        "| Population  | Население района                                         |\n",
        "| AveOccup    | Среднее количество человек на дом                        |\n",
        "\n",
        "- target - стоимость недвижимости, что и нужно вам предсказать (это и есть целевой признак)\n",
        "\n",
        "**Что нужно сделать:**\n",
        "\n",
        "1. Проведите разведочный анализ данных (EDA)\n",
        "\n",
        "2. Заполнить пропуски любыми 2 способами, что обсуждали на лекции. Объясните свой выбор\n",
        "\n",
        "3. Построите модель линейной регрессии c помощью LinearRegression.\n",
        "\n",
        "4. Оцените качество моделей. Выберите ту модель+метод заполнения пропусков, который даёт наилучший результат, и обоснуйте свой выбор.\n",
        "\n",
        "\n",
        "\n",
        "\n",
        "\n"
      ]
    },
    {
      "cell_type": "markdown",
      "metadata": {
        "id": "zSuKyjSxvt0D"
      },
      "source": [
        "# <font color='#11a642' size='6'> **Импорт и установка библиотек**"
      ]
    },
    {
      "cell_type": "code",
      "execution_count": null,
      "metadata": {
        "id": "3a9Myq9OFN0s"
      },
      "outputs": [],
      "source": [
        "import numpy as np\n",
        "import pandas as pd\n",
        "\n",
        "import matplotlib.pyplot as plt\n",
        "import seaborn as sns\n",
        "\n",
        "from itertools import product\n",
        "from sklearn.experimental import enable_iterative_imputer\n",
        "from sklearn.impute import IterativeImputer\n",
        "from sklearn.preprocessing import StandardScaler\n",
        "from sklearn.model_selection import train_test_split\n",
        "from sklearn.linear_model import HuberRegressor, LinearRegression, ElasticNet\n",
        "from sklearn.metrics import mean_absolute_error, mean_squared_error\n",
        "\n",
        "__import__(\"warnings\").filterwarnings('ignore')"
      ]
    },
    {
      "cell_type": "code",
      "execution_count": null,
      "metadata": {
        "id": "nTk31OlzLVS1"
      },
      "outputs": [],
      "source": [
        "def calc_metrics(model,\n",
        "                 data: pd.DataFrame,\n",
        "                 y_true: pd.Series,\n",
        "                 type_sample: str\n",
        "                 ) -> dict:\n",
        "    \"\"\"\n",
        "    Вычисляет базовые регрессионные метрики на обучающей выборке.\n",
        "\n",
        "    Метрики:\n",
        "    - MAE (Mean Absolute Error)\n",
        "    - RMSE (Root Mean Squared Error)\n",
        "    - MAPE (Mean Absolute Percentage Error)\n",
        "    - SMAPE (Symmetric Mean Absolute Percentage Error)\n",
        "\n",
        "    Параметры:\n",
        "    ----------\n",
        "    model :  Обученная регрессионная модель.\n",
        "    data : pd.DataFrame | np.ndarray  Признаки выборки.\n",
        "    y_true : pd.Series | np.ndarray  Целевая переменная (фактическое значение)\n",
        "    type_sample: название выборки\n",
        "    Возвращает:\n",
        "    -----------\n",
        "    dict_metrics :  Словарь с названиями метрик и их значениями.\n",
        "    \"\"\"\n",
        "    y_pred = model.predict(data)\n",
        "\n",
        "    # Метрики\n",
        "    mae = mean_absolute_error(y_true, y_pred)\n",
        "    rmse = np.sqrt(mean_squared_error(y_true, y_pred))\n",
        "    mape = np.mean(np.abs((y_true - y_pred) / y_true)) * 100\n",
        "    smape = 100 * np.mean(2 * np.abs(y_true - y_pred) / (np.abs(y_true) + np.abs(y_pred)))\n",
        "\n",
        "    dict_metrics = {'metrics': ['mae', 'rmse', 'mape', 'smape'],\n",
        "                    type_sample: [mae, rmse, mape, smape]}\n",
        "\n",
        "    return dict_metrics\n",
        "\n",
        "\n",
        "def train_model(model_class, type_sample: str,\n",
        "                X_tr: pd.DataFrame, X_val: pd.DataFrame,\n",
        "                y_tr: pd.Series, y_val: pd.Series) -> pd.DataFrame:\n",
        "    \"\"\"\n",
        "    Обучение модели, получение предсказаний и метрик\n",
        "    :param model_class: класс модели\n",
        "    :param type_sample: тип данных\n",
        "    :param X_tr: тренировочная выборка\n",
        "    :param X_val: валидационная выборка\n",
        "    :param y_tr: тренировочный целевой признак\n",
        "    :param y_val: валидационный целевой признак\n",
        "    :return: ДФ с метриками\n",
        "    \"\"\"\n",
        "    # Инициализация скейлера\n",
        "    scaler = StandardScaler()\n",
        "    # Обучение скейлера на тренировочных данных\n",
        "    X_tr_scaled = scaler.fit_transform(X_tr)\n",
        "    # Применение к валидационной выборке\n",
        "    X_val_scaled = scaler.transform(X_val)\n",
        "    # Создание и обучение модели линейной регрессии\n",
        "    model = model_class()\n",
        "    model.fit(X_tr_scaled, y_tr)\n",
        "    result_name = (f'{model_class.__name__}_{type_sample}'\n",
        "                   .replace('LinearRegression', 'LinReg')\n",
        "                   .replace('HuberRegressor', 'Huber'))\n",
        "    metrics = pd.DataFrame(calc_metrics(model, X_val_scaled, y_val, result_name))\n",
        "    return metrics.set_index('metrics')"
      ]
    },
    {
      "cell_type": "markdown",
      "metadata": {
        "id": "MPOq6MYFFayE"
      },
      "source": [
        "# <font color='#11a642' size='6'> **Загрузка данных**"
      ]
    },
    {
      "cell_type": "code",
      "execution_count": null,
      "metadata": {
        "id": "44_n6F8HUL_q"
      },
      "outputs": [],
      "source": [
        "# 1. Загрузка датасета\n",
        "try:\n",
        "    url = 'https://drive.google.com/uc?export=download&id=1yQgwqFxwkHtZl2PZ2waF4Pg3Sb9hyHo9'\n",
        "    df = pd.read_csv(url)\n",
        "except:\n",
        "    df = pd.read_csv('df_with_nan.csv')"
      ]
    },
    {
      "cell_type": "code",
      "execution_count": null,
      "metadata": {
        "colab": {
          "base_uri": "https://localhost:8080/",
          "height": 206
        },
        "id": "uDCXN9-3UPJh",
        "outputId": "949235b6-5aad-43ab-d2b6-7211780fbaef"
      },
      "outputs": [
        {
          "data": {
            "text/html": [
              "<div>\n",
              "<style scoped>\n",
              "    .dataframe tbody tr th:only-of-type {\n",
              "        vertical-align: middle;\n",
              "    }\n",
              "\n",
              "    .dataframe tbody tr th {\n",
              "        vertical-align: top;\n",
              "    }\n",
              "\n",
              "    .dataframe thead th {\n",
              "        text-align: right;\n",
              "    }\n",
              "</style>\n",
              "<table border=\"1\" class=\"dataframe\">\n",
              "  <thead>\n",
              "    <tr style=\"text-align: right;\">\n",
              "      <th></th>\n",
              "      <th>MedInc</th>\n",
              "      <th>HouseAge</th>\n",
              "      <th>AveRooms</th>\n",
              "      <th>AveBedrms</th>\n",
              "      <th>Population</th>\n",
              "      <th>AveOccup</th>\n",
              "      <th>Target</th>\n",
              "    </tr>\n",
              "  </thead>\n",
              "  <tbody>\n",
              "    <tr>\n",
              "      <th>0</th>\n",
              "      <td>8.3252</td>\n",
              "      <td>41.0</td>\n",
              "      <td>6.984127</td>\n",
              "      <td>1.023810</td>\n",
              "      <td>322</td>\n",
              "      <td>2.555556</td>\n",
              "      <td>4.526</td>\n",
              "    </tr>\n",
              "    <tr>\n",
              "      <th>1</th>\n",
              "      <td>8.3014</td>\n",
              "      <td>21.0</td>\n",
              "      <td>6.238137</td>\n",
              "      <td>0.971880</td>\n",
              "      <td>2401</td>\n",
              "      <td>2.109842</td>\n",
              "      <td>3.585</td>\n",
              "    </tr>\n",
              "    <tr>\n",
              "      <th>2</th>\n",
              "      <td>7.2574</td>\n",
              "      <td>52.0</td>\n",
              "      <td>8.288136</td>\n",
              "      <td>1.073446</td>\n",
              "      <td>496</td>\n",
              "      <td>2.802260</td>\n",
              "      <td>3.521</td>\n",
              "    </tr>\n",
              "    <tr>\n",
              "      <th>3</th>\n",
              "      <td>5.6431</td>\n",
              "      <td>52.0</td>\n",
              "      <td>5.817352</td>\n",
              "      <td>1.073059</td>\n",
              "      <td>558</td>\n",
              "      <td>2.547945</td>\n",
              "      <td>3.413</td>\n",
              "    </tr>\n",
              "    <tr>\n",
              "      <th>4</th>\n",
              "      <td>3.8462</td>\n",
              "      <td>52.0</td>\n",
              "      <td>6.281853</td>\n",
              "      <td>1.081081</td>\n",
              "      <td>565</td>\n",
              "      <td>2.181467</td>\n",
              "      <td>3.422</td>\n",
              "    </tr>\n",
              "  </tbody>\n",
              "</table>\n",
              "</div>"
            ],
            "text/plain": [
              "   MedInc  HouseAge  AveRooms  AveBedrms  Population  AveOccup  Target\n",
              "0  8.3252      41.0  6.984127   1.023810         322  2.555556   4.526\n",
              "1  8.3014      21.0  6.238137   0.971880        2401  2.109842   3.585\n",
              "2  7.2574      52.0  8.288136   1.073446         496  2.802260   3.521\n",
              "3  5.6431      52.0  5.817352   1.073059         558  2.547945   3.413\n",
              "4  3.8462      52.0  6.281853   1.081081         565  2.181467   3.422"
            ]
          },
          "execution_count": 4,
          "metadata": {},
          "output_type": "execute_result"
        }
      ],
      "source": [
        "df.head()"
      ]
    },
    {
      "cell_type": "code",
      "execution_count": null,
      "metadata": {
        "id": "HNPBs-JxLVS1",
        "outputId": "b19d79a7-31ab-4f18-da64-8aa52c292146"
      },
      "outputs": [
        {
          "name": "stdout",
          "output_type": "stream",
          "text": [
            "<class 'pandas.core.frame.DataFrame'>\n",
            "RangeIndex: 20640 entries, 0 to 20639\n",
            "Data columns (total 7 columns):\n",
            " #   Column      Non-Null Count  Dtype  \n",
            "---  ------      --------------  -----  \n",
            " 0   MedInc      20629 non-null  float64\n",
            " 1   HouseAge    20629 non-null  float64\n",
            " 2   AveRooms    20625 non-null  float64\n",
            " 3   AveBedrms   20640 non-null  float64\n",
            " 4   Population  20640 non-null  int64  \n",
            " 5   AveOccup    20640 non-null  float64\n",
            " 6   Target      20640 non-null  float64\n",
            "dtypes: float64(6), int64(1)\n",
            "memory usage: 1.1 MB\n"
          ]
        }
      ],
      "source": [
        "df.info()"
      ]
    },
    {
      "cell_type": "code",
      "execution_count": null,
      "metadata": {
        "id": "dXltTmQ_UJBV"
      },
      "outputs": [],
      "source": [
        "# 2. Разделение признаков и целевой переменной\n",
        "X = df.drop('Target', axis=1)\n",
        "y = df['Target']"
      ]
    },
    {
      "cell_type": "code",
      "execution_count": null,
      "metadata": {
        "colab": {
          "base_uri": "https://localhost:8080/",
          "height": 241
        },
        "id": "iAyFiPpQFS6u",
        "outputId": "929489a1-d8cd-418a-b38c-384e0d035fbb"
      },
      "outputs": [
        {
          "data": {
            "text/plain": [
              "0    4.526\n",
              "1    3.585\n",
              "2    3.521\n",
              "3    3.413\n",
              "4    3.422\n",
              "Name: Target, dtype: float64"
            ]
          },
          "execution_count": 7,
          "metadata": {},
          "output_type": "execute_result"
        }
      ],
      "source": [
        "y.head()"
      ]
    },
    {
      "cell_type": "markdown",
      "metadata": {
        "id": "j0mQVQAG4Hvb"
      },
      "source": [
        "# <font color='#11a642' size='6'> **Разведочный анализ данных**"
      ]
    },
    {
      "cell_type": "code",
      "execution_count": null,
      "metadata": {
        "id": "8-Phdc-mLVS2",
        "outputId": "fd68d399-db74-4102-9525-60fab308fba0"
      },
      "outputs": [
        {
          "data": {
            "image/png": "[encoded data removed]",
            "text/plain": [
              "<Figure size 1600x1600 with 9 Axes>"
            ]
          },
          "metadata": {},
          "output_type": "display_data"
        }
      ],
      "source": [
        "# строим распределение каждого из признаков\n",
        "df.hist(figsize=(16,16), bins=50, grid=False);"
      ]
    },
    {
      "cell_type": "markdown",
      "metadata": {
        "id": "WfvSWRTILVS2"
      },
      "source": [
        "Возможно есть выбросы в HouseAge и целевой переменной."
      ]
    },
    {
      "cell_type": "code",
      "execution_count": null,
      "metadata": {
        "id": "Sh1XqQf4LVS2",
        "outputId": "474837ea-e773-4051-82e7-b298743a53cf"
      },
      "outputs": [
        {
          "data": {
            "image/png": "[encoded data removed]",
            "text/plain": [
              "<Figure size 1500x1000 with 2 Axes>"
            ]
          },
          "metadata": {},
          "output_type": "display_data"
        }
      ],
      "source": [
        "plt.figure(figsize = (15,10))\n",
        "\n",
        "sns.set_theme(font_scale=1.4)\n",
        "\n",
        "corr_matrix = df.corr()\n",
        "corr_matrix = np.round(corr_matrix, 2)\n",
        "corr_matrix[np.abs(corr_matrix) < 0.2] = 0\n",
        "\n",
        "sns.heatmap(corr_matrix, annot=True, linewidths=.5, cmap='coolwarm')\n",
        "\n",
        "plt.title('Матрица кореляций')\n",
        "plt.show()"
      ]
    },
    {
      "cell_type": "markdown",
      "metadata": {
        "id": "_Oxd3jKJLVS2"
      },
      "source": [
        "- Есть сильная корреляция между количеством комнат и количеством спален - что логично.\n",
        "- Есть корреляцие между Средним доходом домохозяйств и Целевой переменной: стоимостью недвижимости"
      ]
    },
    {
      "cell_type": "markdown",
      "metadata": {
        "id": "3sj3k-rB4L0J"
      },
      "source": [
        "## <font color='#11a642' size='5'> Оцените размер вашего датасета\n",
        "\n",
        "\n",
        "1.   Сколько ГБ ваш датасет\n",
        "2.   Сколько строк и столбцов\n",
        "\n"
      ]
    },
    {
      "cell_type": "code",
      "execution_count": null,
      "metadata": {
        "id": "yU6WkgQ7u6-z",
        "outputId": "b6605569-d7f1-456e-843a-a25112af9dde"
      },
      "outputs": [
        {
          "data": {
            "text/plain": [
              "0.001076582819223404"
            ]
          },
          "execution_count": 10,
          "metadata": {},
          "output_type": "execute_result"
        }
      ],
      "source": [
        "# Сколько ГБ ваш датасет\n",
        "df.memory_usage(deep=True).sum() / 1024 ** 3"
      ]
    },
    {
      "cell_type": "code",
      "execution_count": null,
      "metadata": {
        "id": "JG6g0Gfa57EZ",
        "outputId": "f2070f4c-0cd5-4623-bd4e-046c9d955512"
      },
      "outputs": [
        {
          "data": {
            "text/plain": [
              "(20640, 7)"
            ]
          },
          "execution_count": 11,
          "metadata": {},
          "output_type": "execute_result"
        }
      ],
      "source": [
        "# Сколько строк и столбцов\n",
        "df.shape"
      ]
    },
    {
      "cell_type": "markdown",
      "metadata": {
        "id": "92Mhtpl3ePaj"
      },
      "source": [
        "## <font color='#11a642' size='5'> Анализ числовых (непрерывных) признаков\n"
      ]
    },
    {
      "cell_type": "markdown",
      "metadata": {
        "id": "uM8pFd48OB9e"
      },
      "source": [
        "- для каждого признака посчитайте минимум, максимум, среднее, медиану"
      ]
    },
    {
      "cell_type": "code",
      "execution_count": null,
      "metadata": {
        "id": "xcfXdchyeV77",
        "outputId": "bbff225e-1c7d-419e-fdb8-02db280fb3e1"
      },
      "outputs": [
        {
          "data": {
            "text/html": [
              "<div>\n",
              "<style scoped>\n",
              "    .dataframe tbody tr th:only-of-type {\n",
              "        vertical-align: middle;\n",
              "    }\n",
              "\n",
              "    .dataframe tbody tr th {\n",
              "        vertical-align: top;\n",
              "    }\n",
              "\n",
              "    .dataframe thead th {\n",
              "        text-align: right;\n",
              "    }\n",
              "</style>\n",
              "<table border=\"1\" class=\"dataframe\">\n",
              "  <thead>\n",
              "    <tr style=\"text-align: right;\">\n",
              "      <th></th>\n",
              "      <th>MedInc</th>\n",
              "      <th>HouseAge</th>\n",
              "      <th>AveRooms</th>\n",
              "      <th>AveBedrms</th>\n",
              "      <th>Population</th>\n",
              "      <th>AveOccup</th>\n",
              "      <th>Target</th>\n",
              "    </tr>\n",
              "  </thead>\n",
              "  <tbody>\n",
              "    <tr>\n",
              "      <th>min</th>\n",
              "      <td>0.499900</td>\n",
              "      <td>1.00000</td>\n",
              "      <td>0.846154</td>\n",
              "      <td>0.333333</td>\n",
              "      <td>3.000000</td>\n",
              "      <td>0.692308</td>\n",
              "      <td>0.149990</td>\n",
              "    </tr>\n",
              "    <tr>\n",
              "      <th>max</th>\n",
              "      <td>15.000100</td>\n",
              "      <td>52.00000</td>\n",
              "      <td>141.909091</td>\n",
              "      <td>34.066667</td>\n",
              "      <td>35682.000000</td>\n",
              "      <td>1243.333333</td>\n",
              "      <td>5.000010</td>\n",
              "    </tr>\n",
              "    <tr>\n",
              "      <th>mean</th>\n",
              "      <td>3.870444</td>\n",
              "      <td>28.62766</td>\n",
              "      <td>5.428796</td>\n",
              "      <td>1.096675</td>\n",
              "      <td>1425.476744</td>\n",
              "      <td>3.070655</td>\n",
              "      <td>2.068558</td>\n",
              "    </tr>\n",
              "    <tr>\n",
              "      <th>median</th>\n",
              "      <td>3.534900</td>\n",
              "      <td>29.00000</td>\n",
              "      <td>5.228856</td>\n",
              "      <td>1.048780</td>\n",
              "      <td>1166.000000</td>\n",
              "      <td>2.818116</td>\n",
              "      <td>1.797000</td>\n",
              "    </tr>\n",
              "  </tbody>\n",
              "</table>\n",
              "</div>"
            ],
            "text/plain": [
              "           MedInc  HouseAge    AveRooms  AveBedrms    Population     AveOccup  \\\n",
              "min      0.499900   1.00000    0.846154   0.333333      3.000000     0.692308   \n",
              "max     15.000100  52.00000  141.909091  34.066667  35682.000000  1243.333333   \n",
              "mean     3.870444  28.62766    5.428796   1.096675   1425.476744     3.070655   \n",
              "median   3.534900  29.00000    5.228856   1.048780   1166.000000     2.818116   \n",
              "\n",
              "          Target  \n",
              "min     0.149990  \n",
              "max     5.000010  \n",
              "mean    2.068558  \n",
              "median  1.797000  "
            ]
          },
          "execution_count": 12,
          "metadata": {},
          "output_type": "execute_result"
        }
      ],
      "source": [
        "# Можно просто описательные статистики посмотреть\n",
        "df.describe().loc[['min', 'max', 'mean', '50%']].rename({'50%': 'median'})"
      ]
    },
    {
      "cell_type": "code",
      "execution_count": null,
      "metadata": {
        "id": "ixDNoJ3jLVS2",
        "outputId": "fce27dac-e305-4306-9aa9-67f391a50db1"
      },
      "outputs": [
        {
          "name": "stdout",
          "output_type": "stream",
          "text": [
            "Признак: MedInc, минимум: 0.4999, максимум: 15.0001, среднее 3.8704, медиана: 3.5349\n",
            "Признак: HouseAge, минимум: 1.0, максимум: 52.0, среднее 28.6277, медиана: 29.0\n",
            "Признак: AveRooms, минимум: 0.8462, максимум: 141.9091, среднее 5.4288, медиана: 5.2289\n",
            "Признак: AveBedrms, минимум: 0.3333, максимум: 34.0667, среднее 1.0967, медиана: 1.0488\n",
            "Признак: Population, минимум: 3, максимум: 35682, среднее 1425.4767, медиана: 1166.0\n",
            "Признак: AveOccup, минимум: 0.6923, максимум: 1243.3333, среднее 3.0707, медиана: 2.8181\n",
            "Признак: Target, минимум: 0.15, максимум: 5.0, среднее 2.0686, медиана: 1.797\n"
          ]
        }
      ],
      "source": [
        "# Или вывести требуемые статистики\n",
        "n = 4\n",
        "for col in df.columns:\n",
        "    print(f'Признак: {col}, минимум: {round(df[col].min(),n)}, максимум: {round(df[col].max(),n)},',\n",
        "          f'среднее {round(df[col].mean(),n)}, медиана: {round(df[col].median(),n)}')"
      ]
    },
    {
      "cell_type": "markdown",
      "metadata": {
        "id": "kvgXZ_1C6jFH"
      },
      "source": [
        "## <font color='#11a642' size='5'> Анализ пропусков\n"
      ]
    },
    {
      "cell_type": "code",
      "execution_count": null,
      "metadata": {
        "id": "5UljiSaQ6k_r",
        "outputId": "1497090f-86ee-4741-c613-f20ab3c81b8e"
      },
      "outputs": [
        {
          "data": {
            "text/plain": [
              "MedInc        11\n",
              "HouseAge      11\n",
              "AveRooms      15\n",
              "AveBedrms      0\n",
              "Population     0\n",
              "AveOccup       0\n",
              "Target         0\n",
              "dtype: int64"
            ]
          },
          "execution_count": 14,
          "metadata": {},
          "output_type": "execute_result"
        }
      ],
      "source": [
        "df.isna().sum()"
      ]
    },
    {
      "cell_type": "code",
      "execution_count": null,
      "metadata": {
        "id": "AopWm3DGLVS2"
      },
      "outputs": [],
      "source": [
        "!pip install missingno >> _"
      ]
    },
    {
      "cell_type": "code",
      "execution_count": null,
      "metadata": {
        "id": "9u2rSlIaLVS2",
        "outputId": "80b80c28-efff-452d-daf5-3d677a6a24e2"
      },
      "outputs": [
        {
          "data": {
            "image/png": "[encoded data removed]",
            "text/plain": [
              "<Figure size 1000x600 with 2 Axes>"
            ]
          },
          "metadata": {},
          "output_type": "display_data"
        }
      ],
      "source": [
        "try:\n",
        "    import missingno as msno\n",
        "\n",
        "    msno.matrix(df, figsize=(10, 6));\n",
        "except:\n",
        "    ..."
      ]
    },
    {
      "cell_type": "markdown",
      "metadata": {
        "id": "LgCiMSz8LVS3"
      },
      "source": [
        "Данная картинка никак нам не помогла в анализе пропусков"
      ]
    },
    {
      "cell_type": "markdown",
      "metadata": {
        "id": "cd-lxD1y6v0Q"
      },
      "source": [
        "# <font color='#11a642' size='6'> **Разделите данные на трейн и тест**"
      ]
    },
    {
      "cell_type": "code",
      "execution_count": null,
      "metadata": {
        "id": "3fHwY-2J7PXr"
      },
      "outputs": [],
      "source": [
        "train, valid, X_train, X_valid, y_train, y_valid = train_test_split(df, X, y,\n",
        "                                                                    test_size=0.2,\n",
        "                                                                    random_state=127)"
      ]
    },
    {
      "cell_type": "markdown",
      "metadata": {
        "id": "bvhVO_Sl7RH3"
      },
      "source": [
        "# <font color='#11a642' size='6'> **Подготовка данных к обучению**"
      ]
    },
    {
      "cell_type": "markdown",
      "metadata": {
        "id": "QnLudVXy7XzV"
      },
      "source": [
        "\n",
        "\n",
        "1. Обработка пропусков любыми 2 способами, изученных на лекции\n",
        "\n",
        "\n"
      ]
    },
    {
      "cell_type": "code",
      "execution_count": null,
      "metadata": {
        "id": "M_pqEovt7WMc",
        "outputId": "5acd3bb3-fb75-4585-e4e8-62d08f8baf36"
      },
      "outputs": [
        {
          "name": "stdout",
          "output_type": "stream",
          "text": [
            "\n",
            "Колонки с пропусками: ['MedInc', 'HouseAge', 'AveRooms']\n"
          ]
        }
      ],
      "source": [
        "# Список колонок с пропусками\n",
        "cols_with_nulls = df.isnull().any()\n",
        "columns_with_nulls = cols_with_nulls[cols_with_nulls].index.tolist()\n",
        "print('\\nКолонки с пропусками:', columns_with_nulls)\n",
        "\n",
        "# Считаем среднее по пропущенным колонкам\n",
        "mean_train = X_train[columns_with_nulls].mean()\n",
        "# Считаем медиану по пропущенным колонкам\n",
        "median_train = X_train[columns_with_nulls].median()\n",
        "\n",
        "# Создаем копии тренировочных и валидационных данных\n",
        "X_train_mean, X_valid_mean = X_train.copy(), X_valid.copy()\n",
        "X_train_median, X_valid_median = X_train.copy(), X_valid.copy()\n",
        "\n",
        "# Заполняем пропуски средним\n",
        "X_train_mean[columns_with_nulls] = X_train_mean[columns_with_nulls].fillna(mean_train)\n",
        "X_valid_mean[columns_with_nulls] = X_valid_mean[columns_with_nulls].fillna(mean_train)\n",
        "\n",
        "# Заполняем пропуски медианой\n",
        "X_train_median[columns_with_nulls] = X_train_median[columns_with_nulls].fillna(median_train)\n",
        "X_valid_median[columns_with_nulls] = X_valid_median[columns_with_nulls].fillna(median_train)\n",
        "\n",
        "# Заполнение пропусков моделью линейной регрессии\n",
        "imputer = IterativeImputer(estimator=LinearRegression(), random_state=127)\n",
        "train_imputed = pd.DataFrame(imputer.fit_transform(train),\n",
        "                             columns=df.columns).drop(columns=['Target'])\n",
        "valid_imputed = pd.DataFrame(imputer.transform(valid),\n",
        "                             columns=df.columns).drop(columns=['Target'])"
      ]
    },
    {
      "cell_type": "markdown",
      "metadata": {
        "id": "CnibZvco7i1o"
      },
      "source": [
        "# <font color='#11a642' size='6'> **Построение моделей машинного обучения**"
      ]
    },
    {
      "cell_type": "markdown",
      "metadata": {
        "id": "rrow0r8B7rEa"
      },
      "source": [
        "## <font color='#11a642' size='5'> Построение линейной регрессии с помощью LinearRegression\n"
      ]
    },
    {
      "cell_type": "markdown",
      "metadata": {
        "id": "odgvBY1mLVS3"
      },
      "source": [
        "### Для экспериментов возьмем 3 линейные модели: LinearRegression, HuberRegressor, ElasticNet"
      ]
    },
    {
      "cell_type": "code",
      "execution_count": null,
      "metadata": {
        "id": "VCOomVx_7wGJ"
      },
      "outputs": [],
      "source": [
        "result = None  # датафрейм с результатами\n",
        "# Создание и обучение модели линейной регрессии\n",
        "for cls_model, data in product(\n",
        "        (LinearRegression, HuberRegressor, ElasticNet),\n",
        "        (('mean', X_train_mean, X_valid_mean),\n",
        "         ('median', X_train_median, X_valid_median),\n",
        "         ('impute', train_imputed, valid_imputed)\n",
        "         ), ):\n",
        "    # Получаем результаты одной модели для заданных данных\n",
        "    temp = train_model(cls_model, *data, y_train, y_valid)\n",
        "    # Добавляем результаты в итоговый датафрейм\n",
        "    if result is None:\n",
        "        result = temp\n",
        "    else:\n",
        "        result = pd.concat([result, temp], axis=1)"
      ]
    },
    {
      "cell_type": "markdown",
      "metadata": {
        "id": "4Zp161nI7-JH"
      },
      "source": [
        "### <font color='#11a642' size='4'> Оценка качества  всех моделей\n"
      ]
    },
    {
      "cell_type": "code",
      "execution_count": null,
      "metadata": {
        "id": "wKqxU2Cx8ESV",
        "outputId": "019147d5-4d12-4792-9c18-af68c99a226f"
      },
      "outputs": [
        {
          "data": {
            "text/html": [
              "<div>\n",
              "<style scoped>\n",
              "    .dataframe tbody tr th:only-of-type {\n",
              "        vertical-align: middle;\n",
              "    }\n",
              "\n",
              "    .dataframe tbody tr th {\n",
              "        vertical-align: top;\n",
              "    }\n",
              "\n",
              "    .dataframe thead th {\n",
              "        text-align: right;\n",
              "    }\n",
              "</style>\n",
              "<table border=\"1\" class=\"dataframe\">\n",
              "  <thead>\n",
              "    <tr style=\"text-align: right;\">\n",
              "      <th></th>\n",
              "      <th>LinReg_mean</th>\n",
              "      <th>LinReg_median</th>\n",
              "      <th>LinReg_impute</th>\n",
              "      <th>Huber_mean</th>\n",
              "      <th>Huber_median</th>\n",
              "      <th>Huber_impute</th>\n",
              "      <th>ElasticNet_mean</th>\n",
              "      <th>ElasticNet_median</th>\n",
              "      <th>ElasticNet_impute</th>\n",
              "    </tr>\n",
              "    <tr>\n",
              "      <th>metrics</th>\n",
              "      <th></th>\n",
              "      <th></th>\n",
              "      <th></th>\n",
              "      <th></th>\n",
              "      <th></th>\n",
              "      <th></th>\n",
              "      <th></th>\n",
              "      <th></th>\n",
              "      <th></th>\n",
              "    </tr>\n",
              "  </thead>\n",
              "  <tbody>\n",
              "    <tr>\n",
              "      <th>mae</th>\n",
              "      <td>0.577750</td>\n",
              "      <td>0.577823</td>\n",
              "      <td>0.577064</td>\n",
              "      <td>0.554847</td>\n",
              "      <td>0.554902</td>\n",
              "      <td>0.554009</td>\n",
              "      <td>0.817294</td>\n",
              "      <td>0.817320</td>\n",
              "      <td>0.817159</td>\n",
              "    </tr>\n",
              "    <tr>\n",
              "      <th>rmse</th>\n",
              "      <td>0.780732</td>\n",
              "      <td>0.780835</td>\n",
              "      <td>0.780097</td>\n",
              "      <td>0.854870</td>\n",
              "      <td>0.855372</td>\n",
              "      <td>0.854558</td>\n",
              "      <td>1.039530</td>\n",
              "      <td>1.039559</td>\n",
              "      <td>1.039428</td>\n",
              "    </tr>\n",
              "    <tr>\n",
              "      <th>mape</th>\n",
              "      <td>35.208803</td>\n",
              "      <td>35.213560</td>\n",
              "      <td>35.165564</td>\n",
              "      <td>31.518579</td>\n",
              "      <td>31.522825</td>\n",
              "      <td>31.473621</td>\n",
              "      <td>54.118294</td>\n",
              "      <td>54.120087</td>\n",
              "      <td>54.111846</td>\n",
              "    </tr>\n",
              "    <tr>\n",
              "      <th>smape</th>\n",
              "      <td>29.851308</td>\n",
              "      <td>29.854606</td>\n",
              "      <td>29.812745</td>\n",
              "      <td>28.116524</td>\n",
              "      <td>28.117757</td>\n",
              "      <td>28.067023</td>\n",
              "      <td>40.731116</td>\n",
              "      <td>40.732250</td>\n",
              "      <td>40.724985</td>\n",
              "    </tr>\n",
              "  </tbody>\n",
              "</table>\n",
              "</div>"
            ],
            "text/plain": [
              "         LinReg_mean  LinReg_median  LinReg_impute  Huber_mean  Huber_median  \\\n",
              "metrics                                                                        \n",
              "mae         0.577750       0.577823       0.577064    0.554847      0.554902   \n",
              "rmse        0.780732       0.780835       0.780097    0.854870      0.855372   \n",
              "mape       35.208803      35.213560      35.165564   31.518579     31.522825   \n",
              "smape      29.851308      29.854606      29.812745   28.116524     28.117757   \n",
              "\n",
              "         Huber_impute  ElasticNet_mean  ElasticNet_median  ElasticNet_impute  \n",
              "metrics                                                                       \n",
              "mae          0.554009         0.817294           0.817320           0.817159  \n",
              "rmse         0.854558         1.039530           1.039559           1.039428  \n",
              "mape        31.473621        54.118294          54.120087          54.111846  \n",
              "smape       28.067023        40.731116          40.732250          40.724985  "
            ]
          },
          "execution_count": 20,
          "metadata": {},
          "output_type": "execute_result"
        }
      ],
      "source": [
        "result"
      ]
    },
    {
      "cell_type": "code",
      "execution_count": null,
      "metadata": {
        "id": "BHrxYBoNLVS3",
        "outputId": "351a5f01-e995-42dc-dc83-05d61905d9dd"
      },
      "outputs": [
        {
          "data": {
            "text/plain": [
              "metrics\n",
              "mae       Huber_impute\n",
              "rmse     LinReg_impute\n",
              "mape      Huber_impute\n",
              "smape     Huber_impute\n",
              "dtype: object"
            ]
          },
          "execution_count": 21,
          "metadata": {},
          "output_type": "execute_result"
        }
      ],
      "source": [
        "# Находим модель с минимальным значением по каждой метрике\n",
        "best_models = result.idxmin(axis=1)\n",
        "best_models"
      ]
    },
    {
      "cell_type": "code",
      "execution_count": null,
      "metadata": {
        "id": "AmcURgYeLVS6",
        "outputId": "25bbed83-4b6a-40b9-a3a3-966f3e50db66"
      },
      "outputs": [
        {
          "name": "stdout",
          "output_type": "stream",
          "text": [
            "Итоговая модель: Huber_impute\n"
          ]
        }
      ],
      "source": [
        "best_model = best_models.value_counts().idxmax()\n",
        "print('Итоговая модель:', best_model)"
      ]
    },
    {
      "cell_type": "markdown",
      "metadata": {
        "id": "WYkuh5P2Xzsi"
      },
      "source": [
        "# <font color='#11a642' size='4'> Ваши выводы\n",
        "- какую из моделей вы рекомендуете использовать для прогноза? Почему?\n",
        "\n"
      ]
    },
    {
      "cell_type": "markdown",
      "metadata": {
        "id": "PfUdvkkTHjqm"
      },
      "source": [
        "- Модель HuberRegressor показала лучшие результаты по MAE и MAPE, что говорит о её устойчивости к выбросам.\n",
        "- Модель ElasticNet с настройками по умолчанию разочаровала, т.к. выдала результаты хуже всех.\n",
        "- Заполнение пропусков через IterativeImputer дало небольшое улучшение метрик по сравнению со средним и медианой для обеих моделей.\n",
        "- Заполнение пропусков средним значением лучше, чем медианой на данном датасете."
      ]
    },
    {
      "cell_type": "markdown",
      "metadata": {
        "id": "6hIGtHb4LVS6"
      },
      "source": [
        "# <font color='#11a642' size='4'> Проведем дополнительные опыты:\n",
        "- Оставим один из двух сильно коррелированных признаков AveRooms и AveBedrms\n",
        "- Сделаем комбинацию из этих двух признаков"
      ]
    },
    {
      "cell_type": "code",
      "execution_count": null,
      "metadata": {
        "id": "lsMbsPK5LVS6"
      },
      "outputs": [],
      "source": [
        "# Добавим новый признак как отношение 'AveRooms' к 'AveBedrms'\n",
        "train_imputed['ratio_rooms'] = train_imputed['AveRooms'] / train_imputed['AveBedrms']\n",
        "valid_imputed['ratio_rooms'] = valid_imputed['AveRooms'] / valid_imputed['AveBedrms']\n",
        "\n",
        "result2 = None  # датафрейм с результатами\n",
        "# Создание и обучение модели линейной регрессии\n",
        "one_features = {'AveRooms', 'AveBedrms', 'ratio_rooms'}\n",
        "for name_feature in one_features:\n",
        "    # Список двух других колонок для удаления\n",
        "    drop_cols = list(one_features - {name_feature})\n",
        "    # Получаем результаты одной модели для заданных данных\n",
        "    temp = train_model(HuberRegressor, name_feature,\n",
        "                       train_imputed.drop(columns=drop_cols),\n",
        "                       valid_imputed.drop(columns=drop_cols),\n",
        "                       y_train, y_valid)\n",
        "    # Добавляем результаты в итоговый датафрейм\n",
        "    if result2 is None:\n",
        "        result2 = temp\n",
        "    else:\n",
        "        result2 = pd.concat([result2, temp], axis=1)"
      ]
    },
    {
      "cell_type": "code",
      "execution_count": null,
      "metadata": {
        "id": "h5-ms3K4LVS6",
        "outputId": "19e9fd21-5160-4d55-946e-a82ad47d78a0"
      },
      "outputs": [
        {
          "data": {
            "text/html": [
              "<div>\n",
              "<style scoped>\n",
              "    .dataframe tbody tr th:only-of-type {\n",
              "        vertical-align: middle;\n",
              "    }\n",
              "\n",
              "    .dataframe tbody tr th {\n",
              "        vertical-align: top;\n",
              "    }\n",
              "\n",
              "    .dataframe thead th {\n",
              "        text-align: right;\n",
              "    }\n",
              "</style>\n",
              "<table border=\"1\" class=\"dataframe\">\n",
              "  <thead>\n",
              "    <tr style=\"text-align: right;\">\n",
              "      <th></th>\n",
              "      <th>Huber_ratio_rooms</th>\n",
              "      <th>Huber_AveBedrms</th>\n",
              "      <th>Huber_AveRooms</th>\n",
              "    </tr>\n",
              "    <tr>\n",
              "      <th>metrics</th>\n",
              "      <th></th>\n",
              "      <th></th>\n",
              "      <th></th>\n",
              "    </tr>\n",
              "  </thead>\n",
              "  <tbody>\n",
              "    <tr>\n",
              "      <th>mae</th>\n",
              "      <td>0.550019</td>\n",
              "      <td>0.589925</td>\n",
              "      <td>0.583021</td>\n",
              "    </tr>\n",
              "    <tr>\n",
              "      <th>rmse</th>\n",
              "      <td>0.852868</td>\n",
              "      <td>0.903478</td>\n",
              "      <td>0.919761</td>\n",
              "    </tr>\n",
              "    <tr>\n",
              "      <th>mape</th>\n",
              "      <td>31.077991</td>\n",
              "      <td>34.142421</td>\n",
              "      <td>33.725349</td>\n",
              "    </tr>\n",
              "    <tr>\n",
              "      <th>smape</th>\n",
              "      <td>27.828948</td>\n",
              "      <td>30.363424</td>\n",
              "      <td>30.042460</td>\n",
              "    </tr>\n",
              "  </tbody>\n",
              "</table>\n",
              "</div>"
            ],
            "text/plain": [
              "         Huber_ratio_rooms  Huber_AveBedrms  Huber_AveRooms\n",
              "metrics                                                    \n",
              "mae               0.550019         0.589925        0.583021\n",
              "rmse              0.852868         0.903478        0.919761\n",
              "mape             31.077991        34.142421       33.725349\n",
              "smape            27.828948        30.363424       30.042460"
            ]
          },
          "execution_count": 24,
          "metadata": {},
          "output_type": "execute_result"
        }
      ],
      "source": [
        "result2"
      ]
    },
    {
      "cell_type": "code",
      "execution_count": null,
      "metadata": {
        "id": "jbZSKHpqLVS6",
        "outputId": "424429a4-65cb-4a7a-955a-a33c535302ab"
      },
      "outputs": [
        {
          "name": "stdout",
          "output_type": "stream",
          "text": [
            "metrics\n",
            "mae      Huber_ratio_rooms\n",
            "rmse     Huber_ratio_rooms\n",
            "mape     Huber_ratio_rooms\n",
            "smape    Huber_ratio_rooms\n",
            "dtype: object\n"
          ]
        }
      ],
      "source": [
        "# Находим модель с минимальным значением по каждой метрике\n",
        "best_models2 = result2.idxmin(axis=1)\n",
        "print(best_models2)"
      ]
    },
    {
      "cell_type": "code",
      "execution_count": null,
      "metadata": {
        "id": "937CsL7yLVS6",
        "outputId": "4dbc1663-addd-4f6a-ab35-636ccabd5773"
      },
      "outputs": [
        {
          "name": "stdout",
          "output_type": "stream",
          "text": [
            "Итоговая модель: Huber_ratio_rooms\n"
          ]
        }
      ],
      "source": [
        "best_model2 = best_models2.value_counts().idxmax()\n",
        "print('Итоговая модель:', best_model2)"
      ]
    },
    {
      "cell_type": "markdown",
      "metadata": {
        "id": "lMEUCpm2LVS6"
      },
      "source": [
        "# <font color='#11a642' size='4'> Сравним метрики двух лучших моделей:"
      ]
    },
    {
      "cell_type": "code",
      "execution_count": null,
      "metadata": {
        "id": "KLtccWExLVS6",
        "outputId": "c0978692-c2d6-47f7-c8d4-b9b20d735acd"
      },
      "outputs": [
        {
          "data": {
            "text/html": [
              "<div>\n",
              "<style scoped>\n",
              "    .dataframe tbody tr th:only-of-type {\n",
              "        vertical-align: middle;\n",
              "    }\n",
              "\n",
              "    .dataframe tbody tr th {\n",
              "        vertical-align: top;\n",
              "    }\n",
              "\n",
              "    .dataframe thead th {\n",
              "        text-align: right;\n",
              "    }\n",
              "</style>\n",
              "<table border=\"1\" class=\"dataframe\">\n",
              "  <thead>\n",
              "    <tr style=\"text-align: right;\">\n",
              "      <th></th>\n",
              "      <th>Huber_impute</th>\n",
              "      <th>Huber_ratio_rooms</th>\n",
              "    </tr>\n",
              "    <tr>\n",
              "      <th>metrics</th>\n",
              "      <th></th>\n",
              "      <th></th>\n",
              "    </tr>\n",
              "  </thead>\n",
              "  <tbody>\n",
              "    <tr>\n",
              "      <th>mae</th>\n",
              "      <td>0.554009</td>\n",
              "      <td>0.550019</td>\n",
              "    </tr>\n",
              "    <tr>\n",
              "      <th>rmse</th>\n",
              "      <td>0.854558</td>\n",
              "      <td>0.852868</td>\n",
              "    </tr>\n",
              "    <tr>\n",
              "      <th>mape</th>\n",
              "      <td>31.473621</td>\n",
              "      <td>31.077991</td>\n",
              "    </tr>\n",
              "    <tr>\n",
              "      <th>smape</th>\n",
              "      <td>28.067023</td>\n",
              "      <td>27.828948</td>\n",
              "    </tr>\n",
              "  </tbody>\n",
              "</table>\n",
              "</div>"
            ],
            "text/plain": [
              "         Huber_impute  Huber_ratio_rooms\n",
              "metrics                                 \n",
              "mae          0.554009           0.550019\n",
              "rmse         0.854558           0.852868\n",
              "mape        31.473621          31.077991\n",
              "smape       28.067023          27.828948"
            ]
          },
          "execution_count": 27,
          "metadata": {},
          "output_type": "execute_result"
        }
      ],
      "source": [
        "final_result = pd.concat([result[[best_model]], result2[[best_model2]]], axis=1)\n",
        "final_result"
      ]
    },
    {
      "cell_type": "markdown",
      "metadata": {
        "id": "zO2MN8_GLVS6"
      },
      "source": [
        "# <font color='#11a642' size='4'> Выводы 2:\n",
        "- Удаление одного из признаков AveRooms или AveBedrms ухудшает качество модели.\n",
        "- Замена признаков AveRooms и AveBedrms на их комбинацию улучшает качество модели по сравнению с наличием обоих признаков в данных."
      ]
    },
    {
      "cell_type": "code",
      "execution_count": null,
      "metadata": {
        "id": "mzLqxyhDLVS6"
      },
      "outputs": [],
      "source": []
    }
  ],
  "metadata": {
    "colab": {
      "provenance": [],
      "include_colab_link": true
    },
    "kernelspec": {
      "display_name": "Python 3 (ipykernel)",
      "language": "python",
      "name": "python3"
    },
    "language_info": {
      "codemirror_mode": {
        "name": "ipython",
        "version": 3
      },
      "file_extension": ".py",
      "mimetype": "text/x-python",
      "name": "python",
      "nbconvert_exporter": "python",
      "pygments_lexer": "ipython3",
      "version": "3.11.5"
    }
  },
  "nbformat": 4,
  "nbformat_minor": 0
}